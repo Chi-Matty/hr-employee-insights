{
 "cells": [
  {
   "cell_type": "code",
   "execution_count": 1,
   "metadata": {},
   "outputs": [],
   "source": [
    "import pandas as pd\n",
    "import numpy as np\n",
    "import matplotlib.pyplot as plt"
   ]
  },
  {
   "cell_type": "code",
   "execution_count": 2,
   "metadata": {},
   "outputs": [
    {
     "data": {
      "text/html": [
       "<div>\n",
       "<style scoped>\n",
       "    .dataframe tbody tr th:only-of-type {\n",
       "        vertical-align: middle;\n",
       "    }\n",
       "\n",
       "    .dataframe tbody tr th {\n",
       "        vertical-align: top;\n",
       "    }\n",
       "\n",
       "    .dataframe thead th {\n",
       "        text-align: right;\n",
       "    }\n",
       "</style>\n",
       "<table border=\"1\" class=\"dataframe\">\n",
       "  <thead>\n",
       "    <tr style=\"text-align: right;\">\n",
       "      <th></th>\n",
       "      <th>EmployeeID</th>\n",
       "      <th>Name</th>\n",
       "      <th>Age</th>\n",
       "      <th>Gender</th>\n",
       "      <th>Department</th>\n",
       "      <th>Position</th>\n",
       "      <th>Years_at_Company</th>\n",
       "      <th>Monthly_Salary</th>\n",
       "      <th>Education_Level</th>\n",
       "      <th>Performance_Score</th>\n",
       "      <th>Last_Appraisal_Year</th>\n",
       "      <th>Left_Company</th>\n",
       "    </tr>\n",
       "  </thead>\n",
       "  <tbody>\n",
       "    <tr>\n",
       "      <th>0</th>\n",
       "      <td>1</td>\n",
       "      <td>Employee_1</td>\n",
       "      <td>50.0</td>\n",
       "      <td>Female</td>\n",
       "      <td>HR</td>\n",
       "      <td>Manager</td>\n",
       "      <td>21</td>\n",
       "      <td>6058.0</td>\n",
       "      <td>PhD</td>\n",
       "      <td>3.95</td>\n",
       "      <td>2021</td>\n",
       "      <td>No</td>\n",
       "    </tr>\n",
       "    <tr>\n",
       "      <th>1</th>\n",
       "      <td>2</td>\n",
       "      <td>Employee_2</td>\n",
       "      <td>36.0</td>\n",
       "      <td>Male</td>\n",
       "      <td>Marketing</td>\n",
       "      <td>Manager</td>\n",
       "      <td>18</td>\n",
       "      <td>6978.0</td>\n",
       "      <td>Masters</td>\n",
       "      <td>3.15</td>\n",
       "      <td>2022</td>\n",
       "      <td>No</td>\n",
       "    </tr>\n",
       "    <tr>\n",
       "      <th>2</th>\n",
       "      <td>3</td>\n",
       "      <td>Employee_3</td>\n",
       "      <td>29.0</td>\n",
       "      <td>Male</td>\n",
       "      <td>NaN</td>\n",
       "      <td>Intern</td>\n",
       "      <td>15</td>\n",
       "      <td>14169.0</td>\n",
       "      <td>PhD</td>\n",
       "      <td>4.36</td>\n",
       "      <td>2021</td>\n",
       "      <td>Yes</td>\n",
       "    </tr>\n",
       "    <tr>\n",
       "      <th>3</th>\n",
       "      <td>4</td>\n",
       "      <td>Employee_4</td>\n",
       "      <td>42.0</td>\n",
       "      <td>Male</td>\n",
       "      <td>IT</td>\n",
       "      <td>Assistant</td>\n",
       "      <td>20</td>\n",
       "      <td>9031.0</td>\n",
       "      <td>Bachelors</td>\n",
       "      <td>2.36</td>\n",
       "      <td>2024</td>\n",
       "      <td>No</td>\n",
       "    </tr>\n",
       "    <tr>\n",
       "      <th>4</th>\n",
       "      <td>5</td>\n",
       "      <td>Employee_5</td>\n",
       "      <td>NaN</td>\n",
       "      <td>NaN</td>\n",
       "      <td>Finance</td>\n",
       "      <td>Assistant</td>\n",
       "      <td>26</td>\n",
       "      <td>7120.0</td>\n",
       "      <td>PhD</td>\n",
       "      <td>NaN</td>\n",
       "      <td>2023</td>\n",
       "      <td>Yes</td>\n",
       "    </tr>\n",
       "    <tr>\n",
       "      <th>5</th>\n",
       "      <td>6</td>\n",
       "      <td>Employee_6</td>\n",
       "      <td>44.0</td>\n",
       "      <td>NaN</td>\n",
       "      <td>NaN</td>\n",
       "      <td>Manager</td>\n",
       "      <td>23</td>\n",
       "      <td>13378.0</td>\n",
       "      <td>Masters</td>\n",
       "      <td>4.98</td>\n",
       "      <td>2022</td>\n",
       "      <td>Yes</td>\n",
       "    </tr>\n",
       "    <tr>\n",
       "      <th>6</th>\n",
       "      <td>7</td>\n",
       "      <td>Employee_7</td>\n",
       "      <td>32.0</td>\n",
       "      <td>Non-Binary</td>\n",
       "      <td>IT</td>\n",
       "      <td>Intern</td>\n",
       "      <td>21</td>\n",
       "      <td>5485.0</td>\n",
       "      <td>Masters</td>\n",
       "      <td>2.26</td>\n",
       "      <td>2021</td>\n",
       "      <td>No</td>\n",
       "    </tr>\n",
       "    <tr>\n",
       "      <th>7</th>\n",
       "      <td>8</td>\n",
       "      <td>Employee_8</td>\n",
       "      <td>32.0</td>\n",
       "      <td>Female</td>\n",
       "      <td>Finance</td>\n",
       "      <td>Assistant</td>\n",
       "      <td>3</td>\n",
       "      <td>10612.0</td>\n",
       "      <td>Masters</td>\n",
       "      <td>3.70</td>\n",
       "      <td>2024</td>\n",
       "      <td>Yes</td>\n",
       "    </tr>\n",
       "    <tr>\n",
       "      <th>8</th>\n",
       "      <td>9</td>\n",
       "      <td>Employee_9</td>\n",
       "      <td>45.0</td>\n",
       "      <td>Male</td>\n",
       "      <td>Marketing</td>\n",
       "      <td>Assistant</td>\n",
       "      <td>1</td>\n",
       "      <td>NaN</td>\n",
       "      <td>PhD</td>\n",
       "      <td>4.38</td>\n",
       "      <td>2024</td>\n",
       "      <td>Yes</td>\n",
       "    </tr>\n",
       "    <tr>\n",
       "      <th>9</th>\n",
       "      <td>10</td>\n",
       "      <td>Employee_10</td>\n",
       "      <td>57.0</td>\n",
       "      <td>Female</td>\n",
       "      <td>Sales</td>\n",
       "      <td>Assistant</td>\n",
       "      <td>29</td>\n",
       "      <td>5047.0</td>\n",
       "      <td>Bachelors</td>\n",
       "      <td>4.66</td>\n",
       "      <td>2021</td>\n",
       "      <td>Yes</td>\n",
       "    </tr>\n",
       "  </tbody>\n",
       "</table>\n",
       "</div>"
      ],
      "text/plain": [
       "   EmployeeID         Name   Age      Gender Department   Position  \\\n",
       "0           1   Employee_1  50.0      Female         HR    Manager   \n",
       "1           2   Employee_2  36.0        Male  Marketing    Manager   \n",
       "2           3   Employee_3  29.0        Male        NaN     Intern   \n",
       "3           4   Employee_4  42.0        Male         IT  Assistant   \n",
       "4           5   Employee_5   NaN         NaN    Finance  Assistant   \n",
       "5           6   Employee_6  44.0         NaN        NaN    Manager   \n",
       "6           7   Employee_7  32.0  Non-Binary         IT     Intern   \n",
       "7           8   Employee_8  32.0      Female    Finance  Assistant   \n",
       "8           9   Employee_9  45.0        Male  Marketing  Assistant   \n",
       "9          10  Employee_10  57.0      Female      Sales  Assistant   \n",
       "\n",
       "   Years_at_Company  Monthly_Salary Education_Level  Performance_Score  \\\n",
       "0                21          6058.0             PhD               3.95   \n",
       "1                18          6978.0         Masters               3.15   \n",
       "2                15         14169.0             PhD               4.36   \n",
       "3                20          9031.0       Bachelors               2.36   \n",
       "4                26          7120.0             PhD                NaN   \n",
       "5                23         13378.0         Masters               4.98   \n",
       "6                21          5485.0         Masters               2.26   \n",
       "7                 3         10612.0         Masters               3.70   \n",
       "8                 1             NaN             PhD               4.38   \n",
       "9                29          5047.0       Bachelors               4.66   \n",
       "\n",
       "   Last_Appraisal_Year Left_Company  \n",
       "0                 2021           No  \n",
       "1                 2022           No  \n",
       "2                 2021          Yes  \n",
       "3                 2024           No  \n",
       "4                 2023          Yes  \n",
       "5                 2022          Yes  \n",
       "6                 2021           No  \n",
       "7                 2024          Yes  \n",
       "8                 2024          Yes  \n",
       "9                 2021          Yes  "
      ]
     },
     "execution_count": 2,
     "metadata": {},
     "output_type": "execute_result"
    }
   ],
   "source": [
    "df = pd.read_csv(r\"hr_employee_data.csv\")\n",
    "df.head(10)"
   ]
  },
  {
   "cell_type": "code",
   "execution_count": 3,
   "metadata": {},
   "outputs": [],
   "source": [
    "df.replace('NaN', np.nan, inplace=True)"
   ]
  },
  {
   "cell_type": "markdown",
   "metadata": {},
   "source": [
    "### Fill missing values, median for numerical, and mode for categorical"
   ]
  },
  {
   "cell_type": "code",
   "execution_count": 4,
   "metadata": {},
   "outputs": [],
   "source": [
    "df['Age'] = df['Age'].fillna(df['Age'].median())\n",
    "df['Gender'] = df['Gender'].fillna(df['Gender'].mode()[0])\n",
    "df['Department'] = df['Department'].fillna(df['Department'].mode()[0])\n",
    "df['Monthly_Salary'] = df['Monthly_Salary'].fillna(df['Monthly_Salary'].median())"
   ]
  },
  {
   "cell_type": "markdown",
   "metadata": {},
   "source": [
    "### Department with the highest turnover"
   ]
  },
  {
   "cell_type": "code",
   "execution_count": 5,
   "metadata": {},
   "outputs": [
    {
     "data": {
      "text/html": [
       "<div>\n",
       "<style scoped>\n",
       "    .dataframe tbody tr th:only-of-type {\n",
       "        vertical-align: middle;\n",
       "    }\n",
       "\n",
       "    .dataframe tbody tr th {\n",
       "        vertical-align: top;\n",
       "    }\n",
       "\n",
       "    .dataframe thead th {\n",
       "        text-align: right;\n",
       "    }\n",
       "</style>\n",
       "<table border=\"1\" class=\"dataframe\">\n",
       "  <thead>\n",
       "    <tr style=\"text-align: right;\">\n",
       "      <th></th>\n",
       "      <th>Department</th>\n",
       "      <th>Number_Left</th>\n",
       "    </tr>\n",
       "  </thead>\n",
       "  <tbody>\n",
       "    <tr>\n",
       "      <th>0</th>\n",
       "      <td>Marketing</td>\n",
       "      <td>149</td>\n",
       "    </tr>\n",
       "    <tr>\n",
       "      <th>1</th>\n",
       "      <td>Finance</td>\n",
       "      <td>92</td>\n",
       "    </tr>\n",
       "    <tr>\n",
       "      <th>2</th>\n",
       "      <td>Sales</td>\n",
       "      <td>92</td>\n",
       "    </tr>\n",
       "    <tr>\n",
       "      <th>3</th>\n",
       "      <td>IT</td>\n",
       "      <td>85</td>\n",
       "    </tr>\n",
       "    <tr>\n",
       "      <th>4</th>\n",
       "      <td>HR</td>\n",
       "      <td>80</td>\n",
       "    </tr>\n",
       "  </tbody>\n",
       "</table>\n",
       "</div>"
      ],
      "text/plain": [
       "  Department  Number_Left\n",
       "0  Marketing          149\n",
       "1    Finance           92\n",
       "2      Sales           92\n",
       "3         IT           85\n",
       "4         HR           80"
      ]
     },
     "execution_count": 5,
     "metadata": {},
     "output_type": "execute_result"
    }
   ],
   "source": [
    "turnover = df[(df['Left_Company'] == 'Yes') & df['Department'].notna()]\n",
    "turnover_count = turnover['Department'].value_counts().reset_index()\n",
    "turnover_count.columns = ['Department', 'Number_Left']\n",
    "turnover_count"
   ]
  },
  {
   "cell_type": "markdown",
   "metadata": {},
   "source": [
    "### What is the average salary by department?"
   ]
  },
  {
   "cell_type": "code",
   "execution_count": 6,
   "metadata": {},
   "outputs": [
    {
     "name": "stdout",
     "output_type": "stream",
     "text": [
      "The average Salary by Department Department\n",
      "Marketing    8532.38\n",
      "Finance      8739.96\n",
      "HR           8789.11\n",
      "Sales        8850.50\n",
      "IT           8885.02\n",
      "Name: Monthly_Salary, dtype: float64\n"
     ]
    }
   ],
   "source": [
    "dept_grp = df.groupby('Department')['Monthly_Salary'].mean().round(2).sort_values()\n",
    "print(f\"The average Salary by Department {dept_grp}\")"
   ]
  },
  {
   "cell_type": "code",
   "execution_count": 7,
   "metadata": {},
   "outputs": [
    {
     "data": {
      "text/plain": [
       "<Axes: title={'center': 'What is the average Salary by Department'}, ylabel='Department'>"
      ]
     },
     "execution_count": 7,
     "metadata": {},
     "output_type": "execute_result"
    },
    {
     "data": {
      "image/png": "[encoded data removed]",
      "text/plain": [
       "<Figure size 800x300 with 1 Axes>"
      ]
     },
     "metadata": {},
     "output_type": "display_data"
    }
   ],
   "source": [
    "dept_grp.plot(kind='barh', figsize=(8,3), title='What is the average Salary by Department')"
   ]
  },
  {
   "cell_type": "markdown",
   "metadata": {},
   "source": [
    "### What’s the average performance score by position"
   ]
  },
  {
   "cell_type": "code",
   "execution_count": 8,
   "metadata": {},
   "outputs": [
    {
     "name": "stdout",
     "output_type": "stream",
     "text": [
      "The average performance score by position Position\n",
      "Analyst      2.89\n",
      "Assistant    2.86\n",
      "Executive    2.86\n",
      "Intern       3.21\n",
      "Manager      2.98\n",
      "Name: Performance_Score, dtype: float64\n"
     ]
    }
   ],
   "source": [
    "position_grp = df.groupby('Position')['Performance_Score'].mean().round(2)\n",
    "print(f\"The average performance score by position {position_grp}\")"
   ]
  },
  {
   "cell_type": "code",
   "execution_count": 9,
   "metadata": {},
   "outputs": [
    {
     "data": {
      "text/plain": [
       "<Axes: title={'center': 'What is the average Performance by Position'}>"
      ]
     },
     "execution_count": 9,
     "metadata": {},
     "output_type": "execute_result"
    },
    {
     "data": {
      "image/png": "[encoded data removed]",
      "text/plain": [
       "<Figure size 800x300 with 1 Axes>"
      ]
     },
     "metadata": {},
     "output_type": "display_data"
    }
   ],
   "source": [
    "position_grp.plot(kind='pie', ylabel= '',figsize=(8,3), title='What is the average Performance by Position')"
   ]
  },
  {
   "cell_type": "markdown",
   "metadata": {},
   "source": [
    "#### Do older employees tend to leave more?"
   ]
  },
  {
   "cell_type": "code",
   "execution_count": 10,
   "metadata": {},
   "outputs": [
    {
     "data": {
      "text/plain": [
       "False    730\n",
       "True     270\n",
       "Name: count, dtype: int64"
      ]
     },
     "execution_count": 10,
     "metadata": {},
     "output_type": "execute_result"
    }
   ],
   "source": [
    "stay = ((df['Age'] >= 42) & (df['Left_Company'] == 'Yes')).value_counts()\n",
    "stay"
   ]
  },
  {
   "cell_type": "code",
   "execution_count": 11,
   "metadata": {},
   "outputs": [
    {
     "data": {
      "text/plain": [
       "<Axes: title={'center': 'Do older employees tend to leave more?'}>"
      ]
     },
     "execution_count": 11,
     "metadata": {},
     "output_type": "execute_result"
    },
    {
     "data": {
      "image/png": "[encoded data removed]",
      "text/plain": [
       "<Figure size 800x300 with 1 Axes>"
      ]
     },
     "metadata": {},
     "output_type": "display_data"
    }
   ],
   "source": [
    "stay.plot(title='Do older employees tend to leave more?', figsize=(8,3), ylabel='', kind='pie')"
   ]
  },
  {
   "cell_type": "markdown",
   "metadata": {},
   "source": [
    "### Compare average performance scores between employees who left and those who stayed."
   ]
  },
  {
   "cell_type": "code",
   "execution_count": 12,
   "metadata": {},
   "outputs": [
    {
     "name": "stdout",
     "output_type": "stream",
     "text": [
      "those who stayed have higher avg performance score Left_Company\n",
      "No     2.98\n",
      "Yes    2.94\n",
      "Name: Performance_Score, dtype: float64\n"
     ]
    }
   ],
   "source": [
    "left_comp_grp = df.groupby('Left_Company')['Performance_Score'].mean().round(2)\n",
    "print(f\"those who stayed have higher avg performance score {left_comp_grp}\")"
   ]
  },
  {
   "cell_type": "markdown",
   "metadata": {},
   "source": [
    "### How many employees have not been appraised in the last 2 years?"
   ]
  },
  {
   "cell_type": "code",
   "execution_count": 13,
   "metadata": {},
   "outputs": [
    {
     "name": "stdout",
     "output_type": "stream",
     "text": [
      "505 employees have not been appraised in the last 2 years\n"
     ]
    }
   ],
   "source": [
    "not_appraised = (df['Last_Appraisal_Year'] < 2023).sum()\n",
    "print(f\"{not_appraised} employees have not been appraised in the last 2 years\")"
   ]
  },
  {
   "cell_type": "markdown",
   "metadata": {},
   "source": [
    "### Find the top 10 longest-serving employees and their last appraisal year."
   ]
  },
  {
   "cell_type": "code",
   "execution_count": 14,
   "metadata": {},
   "outputs": [
    {
     "data": {
      "text/html": [
       "<div>\n",
       "<style scoped>\n",
       "    .dataframe tbody tr th:only-of-type {\n",
       "        vertical-align: middle;\n",
       "    }\n",
       "\n",
       "    .dataframe tbody tr th {\n",
       "        vertical-align: top;\n",
       "    }\n",
       "\n",
       "    .dataframe thead th {\n",
       "        text-align: right;\n",
       "    }\n",
       "</style>\n",
       "<table border=\"1\" class=\"dataframe\">\n",
       "  <thead>\n",
       "    <tr style=\"text-align: right;\">\n",
       "      <th></th>\n",
       "      <th>Name</th>\n",
       "      <th>Years_at_Company</th>\n",
       "      <th>Last_Appraisal_Year</th>\n",
       "    </tr>\n",
       "  </thead>\n",
       "  <tbody>\n",
       "    <tr>\n",
       "      <th>9</th>\n",
       "      <td>Employee_10</td>\n",
       "      <td>29</td>\n",
       "      <td>2021</td>\n",
       "    </tr>\n",
       "    <tr>\n",
       "      <th>83</th>\n",
       "      <td>Employee_84</td>\n",
       "      <td>29</td>\n",
       "      <td>2021</td>\n",
       "    </tr>\n",
       "    <tr>\n",
       "      <th>89</th>\n",
       "      <td>Employee_90</td>\n",
       "      <td>29</td>\n",
       "      <td>2021</td>\n",
       "    </tr>\n",
       "    <tr>\n",
       "      <th>241</th>\n",
       "      <td>Employee_242</td>\n",
       "      <td>29</td>\n",
       "      <td>2023</td>\n",
       "    </tr>\n",
       "    <tr>\n",
       "      <th>265</th>\n",
       "      <td>Employee_266</td>\n",
       "      <td>29</td>\n",
       "      <td>2023</td>\n",
       "    </tr>\n",
       "    <tr>\n",
       "      <th>269</th>\n",
       "      <td>Employee_270</td>\n",
       "      <td>29</td>\n",
       "      <td>2021</td>\n",
       "    </tr>\n",
       "    <tr>\n",
       "      <th>271</th>\n",
       "      <td>Employee_272</td>\n",
       "      <td>29</td>\n",
       "      <td>2023</td>\n",
       "    </tr>\n",
       "    <tr>\n",
       "      <th>295</th>\n",
       "      <td>Employee_296</td>\n",
       "      <td>29</td>\n",
       "      <td>2023</td>\n",
       "    </tr>\n",
       "    <tr>\n",
       "      <th>304</th>\n",
       "      <td>Employee_305</td>\n",
       "      <td>29</td>\n",
       "      <td>2023</td>\n",
       "    </tr>\n",
       "    <tr>\n",
       "      <th>347</th>\n",
       "      <td>Employee_348</td>\n",
       "      <td>29</td>\n",
       "      <td>2022</td>\n",
       "    </tr>\n",
       "  </tbody>\n",
       "</table>\n",
       "</div>"
      ],
      "text/plain": [
       "             Name  Years_at_Company  Last_Appraisal_Year\n",
       "9     Employee_10                29                 2021\n",
       "83    Employee_84                29                 2021\n",
       "89    Employee_90                29                 2021\n",
       "241  Employee_242                29                 2023\n",
       "265  Employee_266                29                 2023\n",
       "269  Employee_270                29                 2021\n",
       "271  Employee_272                29                 2023\n",
       "295  Employee_296                29                 2023\n",
       "304  Employee_305                29                 2023\n",
       "347  Employee_348                29                 2022"
      ]
     },
     "execution_count": 14,
     "metadata": {},
     "output_type": "execute_result"
    }
   ],
   "source": [
    "top_10 = df[['Name', 'Years_at_Company', 'Last_Appraisal_Year']].nlargest(10, 'Years_at_Company')\n",
    "top_10"
   ]
  },
  {
   "cell_type": "code",
   "execution_count": 15,
   "metadata": {},
   "outputs": [
    {
     "data": {
      "image/png": "[encoded data removed]",
      "text/plain": [
       "<Figure size 1000x500 with 1 Axes>"
      ]
     },
     "metadata": {},
     "output_type": "display_data"
    }
   ],
   "source": [
    "plt.figure(figsize=(10, 5))\n",
    "plt.barh(top_10['Name'], top_10['Years_at_Company'], color='skyblue')\n",
    "plt.xlabel('Years at Company')\n",
    "plt.title('Top 10 Longest-Serving Employees')\n",
    "plt.gca().invert_yaxis()  # Highest years at top\n",
    "plt.grid(axis='x', linestyle='--', alpha=0.6)\n",
    "plt.tight_layout()\n",
    "plt.show()"
   ]
  },
  {
   "cell_type": "code",
   "execution_count": 18,
   "metadata": {},
   "outputs": [
    {
     "data": {
      "text/html": [
       "<div>\n",
       "<style scoped>\n",
       "    .dataframe tbody tr th:only-of-type {\n",
       "        vertical-align: middle;\n",
       "    }\n",
       "\n",
       "    .dataframe tbody tr th {\n",
       "        vertical-align: top;\n",
       "    }\n",
       "\n",
       "    .dataframe thead th {\n",
       "        text-align: right;\n",
       "    }\n",
       "</style>\n",
       "<table border=\"1\" class=\"dataframe\">\n",
       "  <thead>\n",
       "    <tr style=\"text-align: right;\">\n",
       "      <th></th>\n",
       "      <th>EmployeeID</th>\n",
       "      <th>Age</th>\n",
       "      <th>Years_at_Company</th>\n",
       "      <th>Monthly_Salary</th>\n",
       "      <th>Performance_Score</th>\n",
       "      <th>Last_Appraisal_Year</th>\n",
       "    </tr>\n",
       "  </thead>\n",
       "  <tbody>\n",
       "    <tr>\n",
       "      <th>count</th>\n",
       "      <td>1000.00</td>\n",
       "      <td>1000.00</td>\n",
       "      <td>1000.00</td>\n",
       "      <td>1000.00</td>\n",
       "      <td>900.00</td>\n",
       "      <td>1000.0</td>\n",
       "    </tr>\n",
       "    <tr>\n",
       "      <th>mean</th>\n",
       "      <td>500.50</td>\n",
       "      <td>41.16</td>\n",
       "      <td>15.20</td>\n",
       "      <td>8728.89</td>\n",
       "      <td>2.96</td>\n",
       "      <td>2022.5</td>\n",
       "    </tr>\n",
       "    <tr>\n",
       "      <th>std</th>\n",
       "      <td>288.82</td>\n",
       "      <td>10.54</td>\n",
       "      <td>8.58</td>\n",
       "      <td>3464.64</td>\n",
       "      <td>1.15</td>\n",
       "      <td>1.1</td>\n",
       "    </tr>\n",
       "    <tr>\n",
       "      <th>min</th>\n",
       "      <td>1.00</td>\n",
       "      <td>22.00</td>\n",
       "      <td>0.00</td>\n",
       "      <td>2511.00</td>\n",
       "      <td>1.01</td>\n",
       "      <td>2021.0</td>\n",
       "    </tr>\n",
       "    <tr>\n",
       "      <th>25%</th>\n",
       "      <td>250.75</td>\n",
       "      <td>32.00</td>\n",
       "      <td>8.00</td>\n",
       "      <td>5992.75</td>\n",
       "      <td>1.96</td>\n",
       "      <td>2022.0</td>\n",
       "    </tr>\n",
       "    <tr>\n",
       "      <th>50%</th>\n",
       "      <td>500.50</td>\n",
       "      <td>42.00</td>\n",
       "      <td>15.00</td>\n",
       "      <td>8777.00</td>\n",
       "      <td>2.95</td>\n",
       "      <td>2022.0</td>\n",
       "    </tr>\n",
       "    <tr>\n",
       "      <th>75%</th>\n",
       "      <td>750.25</td>\n",
       "      <td>50.00</td>\n",
       "      <td>23.00</td>\n",
       "      <td>11568.75</td>\n",
       "      <td>3.95</td>\n",
       "      <td>2023.0</td>\n",
       "    </tr>\n",
       "    <tr>\n",
       "      <th>max</th>\n",
       "      <td>1000.00</td>\n",
       "      <td>59.00</td>\n",
       "      <td>29.00</td>\n",
       "      <td>14997.00</td>\n",
       "      <td>5.00</td>\n",
       "      <td>2024.0</td>\n",
       "    </tr>\n",
       "  </tbody>\n",
       "</table>\n",
       "</div>"
      ],
      "text/plain": [
       "       EmployeeID      Age  Years_at_Company  Monthly_Salary  \\\n",
       "count     1000.00  1000.00           1000.00         1000.00   \n",
       "mean       500.50    41.16             15.20         8728.89   \n",
       "std        288.82    10.54              8.58         3464.64   \n",
       "min          1.00    22.00              0.00         2511.00   \n",
       "25%        250.75    32.00              8.00         5992.75   \n",
       "50%        500.50    42.00             15.00         8777.00   \n",
       "75%        750.25    50.00             23.00        11568.75   \n",
       "max       1000.00    59.00             29.00        14997.00   \n",
       "\n",
       "       Performance_Score  Last_Appraisal_Year  \n",
       "count             900.00               1000.0  \n",
       "mean                2.96               2022.5  \n",
       "std                 1.15                  1.1  \n",
       "min                 1.01               2021.0  \n",
       "25%                 1.96               2022.0  \n",
       "50%                 2.95               2022.0  \n",
       "75%                 3.95               2023.0  \n",
       "max                 5.00               2024.0  "
      ]
     },
     "execution_count": 18,
     "metadata": {},
     "output_type": "execute_result"
    }
   ],
   "source": [
    "df.describe().round(2)"
   ]
  },
  {
   "cell_type": "markdown",
   "metadata": {},
   "source": [
    "### predicting whether an employee might leave the company using basic logic or patterns you see (e.g. low performance + low salary)."
   ]
  },
  {
   "cell_type": "code",
   "execution_count": 29,
   "metadata": {},
   "outputs": [
    {
     "data": {
      "text/html": [
       "<div>\n",
       "<style scoped>\n",
       "    .dataframe tbody tr th:only-of-type {\n",
       "        vertical-align: middle;\n",
       "    }\n",
       "\n",
       "    .dataframe tbody tr th {\n",
       "        vertical-align: top;\n",
       "    }\n",
       "\n",
       "    .dataframe thead th {\n",
       "        text-align: right;\n",
       "    }\n",
       "</style>\n",
       "<table border=\"1\" class=\"dataframe\">\n",
       "  <thead>\n",
       "    <tr style=\"text-align: right;\">\n",
       "      <th></th>\n",
       "      <th>EmployeeID</th>\n",
       "      <th>Name</th>\n",
       "      <th>Age</th>\n",
       "      <th>Gender</th>\n",
       "      <th>Department</th>\n",
       "      <th>Position</th>\n",
       "      <th>Years_at_Company</th>\n",
       "      <th>Monthly_Salary</th>\n",
       "      <th>Education_Level</th>\n",
       "      <th>Performance_Score</th>\n",
       "      <th>Last_Appraisal_Year</th>\n",
       "      <th>Left_Company</th>\n",
       "      <th>Risk_of_Exit</th>\n",
       "    </tr>\n",
       "  </thead>\n",
       "  <tbody>\n",
       "    <tr>\n",
       "      <th>0</th>\n",
       "      <td>1</td>\n",
       "      <td>Employee_1</td>\n",
       "      <td>50.0</td>\n",
       "      <td>Female</td>\n",
       "      <td>HR</td>\n",
       "      <td>Manager</td>\n",
       "      <td>21</td>\n",
       "      <td>6058.0</td>\n",
       "      <td>PhD</td>\n",
       "      <td>3.95</td>\n",
       "      <td>2021</td>\n",
       "      <td>No</td>\n",
       "      <td>Low</td>\n",
       "    </tr>\n",
       "    <tr>\n",
       "      <th>1</th>\n",
       "      <td>2</td>\n",
       "      <td>Employee_2</td>\n",
       "      <td>36.0</td>\n",
       "      <td>Male</td>\n",
       "      <td>Marketing</td>\n",
       "      <td>Manager</td>\n",
       "      <td>18</td>\n",
       "      <td>6978.0</td>\n",
       "      <td>Masters</td>\n",
       "      <td>3.15</td>\n",
       "      <td>2022</td>\n",
       "      <td>No</td>\n",
       "      <td>Low</td>\n",
       "    </tr>\n",
       "    <tr>\n",
       "      <th>2</th>\n",
       "      <td>3</td>\n",
       "      <td>Employee_3</td>\n",
       "      <td>29.0</td>\n",
       "      <td>Male</td>\n",
       "      <td>Marketing</td>\n",
       "      <td>Intern</td>\n",
       "      <td>15</td>\n",
       "      <td>14169.0</td>\n",
       "      <td>PhD</td>\n",
       "      <td>4.36</td>\n",
       "      <td>2021</td>\n",
       "      <td>Yes</td>\n",
       "      <td>Low</td>\n",
       "    </tr>\n",
       "    <tr>\n",
       "      <th>3</th>\n",
       "      <td>4</td>\n",
       "      <td>Employee_4</td>\n",
       "      <td>42.0</td>\n",
       "      <td>Male</td>\n",
       "      <td>IT</td>\n",
       "      <td>Assistant</td>\n",
       "      <td>20</td>\n",
       "      <td>9031.0</td>\n",
       "      <td>Bachelors</td>\n",
       "      <td>2.36</td>\n",
       "      <td>2024</td>\n",
       "      <td>No</td>\n",
       "      <td>Low</td>\n",
       "    </tr>\n",
       "    <tr>\n",
       "      <th>4</th>\n",
       "      <td>5</td>\n",
       "      <td>Employee_5</td>\n",
       "      <td>42.0</td>\n",
       "      <td>Male</td>\n",
       "      <td>Finance</td>\n",
       "      <td>Assistant</td>\n",
       "      <td>26</td>\n",
       "      <td>7120.0</td>\n",
       "      <td>PhD</td>\n",
       "      <td>NaN</td>\n",
       "      <td>2023</td>\n",
       "      <td>Yes</td>\n",
       "      <td>Low</td>\n",
       "    </tr>\n",
       "    <tr>\n",
       "      <th>5</th>\n",
       "      <td>6</td>\n",
       "      <td>Employee_6</td>\n",
       "      <td>44.0</td>\n",
       "      <td>Male</td>\n",
       "      <td>Marketing</td>\n",
       "      <td>Manager</td>\n",
       "      <td>23</td>\n",
       "      <td>13378.0</td>\n",
       "      <td>Masters</td>\n",
       "      <td>4.98</td>\n",
       "      <td>2022</td>\n",
       "      <td>Yes</td>\n",
       "      <td>Low</td>\n",
       "    </tr>\n",
       "    <tr>\n",
       "      <th>6</th>\n",
       "      <td>7</td>\n",
       "      <td>Employee_7</td>\n",
       "      <td>32.0</td>\n",
       "      <td>Non-Binary</td>\n",
       "      <td>IT</td>\n",
       "      <td>Intern</td>\n",
       "      <td>21</td>\n",
       "      <td>5485.0</td>\n",
       "      <td>Masters</td>\n",
       "      <td>2.26</td>\n",
       "      <td>2021</td>\n",
       "      <td>No</td>\n",
       "      <td>Low</td>\n",
       "    </tr>\n",
       "    <tr>\n",
       "      <th>7</th>\n",
       "      <td>8</td>\n",
       "      <td>Employee_8</td>\n",
       "      <td>32.0</td>\n",
       "      <td>Female</td>\n",
       "      <td>Finance</td>\n",
       "      <td>Assistant</td>\n",
       "      <td>3</td>\n",
       "      <td>10612.0</td>\n",
       "      <td>Masters</td>\n",
       "      <td>3.70</td>\n",
       "      <td>2024</td>\n",
       "      <td>Yes</td>\n",
       "      <td>Low</td>\n",
       "    </tr>\n",
       "    <tr>\n",
       "      <th>8</th>\n",
       "      <td>9</td>\n",
       "      <td>Employee_9</td>\n",
       "      <td>45.0</td>\n",
       "      <td>Male</td>\n",
       "      <td>Marketing</td>\n",
       "      <td>Assistant</td>\n",
       "      <td>1</td>\n",
       "      <td>8777.0</td>\n",
       "      <td>PhD</td>\n",
       "      <td>4.38</td>\n",
       "      <td>2024</td>\n",
       "      <td>Yes</td>\n",
       "      <td>Low</td>\n",
       "    </tr>\n",
       "    <tr>\n",
       "      <th>9</th>\n",
       "      <td>10</td>\n",
       "      <td>Employee_10</td>\n",
       "      <td>57.0</td>\n",
       "      <td>Female</td>\n",
       "      <td>Sales</td>\n",
       "      <td>Assistant</td>\n",
       "      <td>29</td>\n",
       "      <td>5047.0</td>\n",
       "      <td>Bachelors</td>\n",
       "      <td>4.66</td>\n",
       "      <td>2021</td>\n",
       "      <td>Yes</td>\n",
       "      <td>Low</td>\n",
       "    </tr>\n",
       "  </tbody>\n",
       "</table>\n",
       "</div>"
      ],
      "text/plain": [
       "   EmployeeID         Name   Age      Gender Department   Position  \\\n",
       "0           1   Employee_1  50.0      Female         HR    Manager   \n",
       "1           2   Employee_2  36.0        Male  Marketing    Manager   \n",
       "2           3   Employee_3  29.0        Male  Marketing     Intern   \n",
       "3           4   Employee_4  42.0        Male         IT  Assistant   \n",
       "4           5   Employee_5  42.0        Male    Finance  Assistant   \n",
       "5           6   Employee_6  44.0        Male  Marketing    Manager   \n",
       "6           7   Employee_7  32.0  Non-Binary         IT     Intern   \n",
       "7           8   Employee_8  32.0      Female    Finance  Assistant   \n",
       "8           9   Employee_9  45.0        Male  Marketing  Assistant   \n",
       "9          10  Employee_10  57.0      Female      Sales  Assistant   \n",
       "\n",
       "   Years_at_Company  Monthly_Salary Education_Level  Performance_Score  \\\n",
       "0                21          6058.0             PhD               3.95   \n",
       "1                18          6978.0         Masters               3.15   \n",
       "2                15         14169.0             PhD               4.36   \n",
       "3                20          9031.0       Bachelors               2.36   \n",
       "4                26          7120.0             PhD                NaN   \n",
       "5                23         13378.0         Masters               4.98   \n",
       "6                21          5485.0         Masters               2.26   \n",
       "7                 3         10612.0         Masters               3.70   \n",
       "8                 1          8777.0             PhD               4.38   \n",
       "9                29          5047.0       Bachelors               4.66   \n",
       "\n",
       "   Last_Appraisal_Year Left_Company Risk_of_Exit  \n",
       "0                 2021           No          Low  \n",
       "1                 2022           No          Low  \n",
       "2                 2021          Yes          Low  \n",
       "3                 2024           No          Low  \n",
       "4                 2023          Yes          Low  \n",
       "5                 2022          Yes          Low  \n",
       "6                 2021           No          Low  \n",
       "7                 2024          Yes          Low  \n",
       "8                 2024          Yes          Low  \n",
       "9                 2021          Yes          Low  "
      ]
     },
     "execution_count": 29,
     "metadata": {},
     "output_type": "execute_result"
    }
   ],
   "source": [
    "df['Risk_of_Exit'] = (df['Performance_Score'] < 3) & (df['Monthly_Salary'] < 3000)\n",
    "df['Risk_of_Exit'] = df['Risk_of_Exit'].map({True: 'High', False: 'Low'})\n",
    "df.head(10)"
   ]
  },
  {
   "cell_type": "code",
   "execution_count": 30,
   "metadata": {},
   "outputs": [
    {
     "data": {
      "text/plain": [
       "Risk_of_Exit\n",
       "Low     978\n",
       "High     22\n",
       "Name: count, dtype: int64"
      ]
     },
     "execution_count": 30,
     "metadata": {},
     "output_type": "execute_result"
    }
   ],
   "source": [
    "df['Risk_of_Exit'].value_counts()"
   ]
  },
  {
   "cell_type": "code",
   "execution_count": null,
   "metadata": {},
   "outputs": [],
   "source": []
  }
 ],
 "metadata": {
  "kernelspec": {
   "display_name": "Python 3 (ipykernel)",
   "language": "python",
   "name": "python3"
  },
  "language_info": {
   "codemirror_mode": {
    "name": "ipython",
    "version": 3
   },
   "file_extension": ".py",
   "mimetype": "text/x-python",
   "name": "python",
   "nbconvert_exporter": "python",
   "pygments_lexer": "ipython3",
   "version": "3.11.0"
  }
 },
 "nbformat": 4,
 "nbformat_minor": 4
}
